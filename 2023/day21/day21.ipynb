{
 "cells": [
  {
   "cell_type": "code",
   "execution_count": 2,
   "metadata": {},
   "outputs": [
    {
     "name": "stdout",
     "output_type": "stream",
     "text": [
      "202300\n",
      "626153841817650 626160032197650\n"
     ]
    }
   ],
   "source": [
    "n_steps = 26501365\n",
    "plots_grid = 7650  # plots per grid\n",
    "grid_width = 131\n",
    "N = n_steps // grid_width  # grid widths\n",
    "print(N)\n",
    "lower = plots_grid * (2 * N * (N - 1) + 1)\n",
    "upper = plots_grid * (2 * N * (N + 1) + 1)\n",
    "print(lower, upper)"
   ]
  },
  {
   "cell_type": "code",
   "execution_count": 3,
   "metadata": {},
   "outputs": [
    {
     "name": "stdout",
     "output_type": "stream",
     "text": [
      "7637\n",
      "38237\n",
      "99333\n",
      "191133\n",
      "313325\n",
      "466325\n",
      "7637\n",
      "38237\n",
      "99333\n",
      "191133\n",
      "313325\n",
      "466325\n",
      "649613\n"
     ]
    }
   ],
   "source": [
    "alpha1 = 7637  # 7637\n",
    "alpha2 = 7650  # 7650\n",
    "for n in [1, 2, 3, 4, 5, 6]:\n",
    "    N = (n - 1) // 2\n",
    "    M = (n + 0) // 2\n",
    "    print(alpha1 * (4 * N * (N + 1) + 1) + alpha2 * (4 * M**2))\n",
    "\n",
    "print(alpha1)\n",
    "print(alpha1 + 4 * alpha2)\n",
    "print(alpha1 + 4 * alpha2 + 8 * alpha1)\n",
    "print(alpha1 + 4 * alpha2 + 8 * alpha1 + 12 * alpha2)\n",
    "print(alpha1 + 4 * alpha2 + 8 * alpha1 + 12 * alpha2 + 16 * alpha1)\n",
    "print(alpha1 + 4 * alpha2 + 8 * alpha1 + 12 * alpha2 + 16 * alpha1 + 20 * alpha2)\n",
    "print(\n",
    "    alpha1\n",
    "    + 4 * alpha2\n",
    "    + 8 * alpha1\n",
    "    + 12 * alpha2\n",
    "    + 16 * alpha1\n",
    "    + 20 * alpha2\n",
    "    + 24 * alpha1\n",
    ")"
   ]
  },
  {
   "cell_type": "code",
   "execution_count": 37,
   "metadata": {},
   "outputs": [
    {
     "name": "stdout",
     "output_type": "stream",
     "text": [
      "lower_bound: 625621818307437\n",
      "upper_bound: 625627998167837\n"
     ]
    }
   ],
   "source": [
    "alpha1 = 7637\n",
    "alpha2 = 7650\n",
    "\n",
    "def enclosed(n):\n",
    "    N = (n - 1) // 2\n",
    "    M = (n + 0) // 2\n",
    "    return alpha1 * (4 * N * (N + 1) + 1) + alpha2 * (4 * M**2)\n",
    "\n",
    "assert enclosed(1) == alpha1\n",
    "assert enclosed(2) == alpha1 + 4 * alpha2\n",
    "\n",
    "n_steps = 26501365\n",
    "q = n_steps // 131  # number of plot widths in each direction\n",
    "assert n_steps == 26501365\n",
    "assert n_steps % 131 == 65  # ensures formulas work\n",
    "assert q == 202300  # ensure right value is used for formula\n",
    "\n",
    "print(f\"lower_bound: {enclosed(q)}\")\n",
    "print(f\"upper_bound: {enclosed(q+1)}\")"
   ]
  },
  {
   "cell_type": "code",
   "execution_count": 41,
   "metadata": {},
   "outputs": [
    {
     "ename": "AssertionError",
     "evalue": "",
     "output_type": "error",
     "traceback": [
      "\u001b[1;31m---------------------------------------------------------------------------\u001b[0m",
      "\u001b[1;31mAssertionError\u001b[0m                            Traceback (most recent call last)",
      "Input \u001b[1;32mIn [41]\u001b[0m, in \u001b[0;36m<cell line: 31>\u001b[1;34m()\u001b[0m\n\u001b[0;32m     29\u001b[0m \u001b[38;5;28;01massert\u001b[39;00m guess \u001b[38;5;241m!=\u001b[39m \u001b[38;5;241m625623363272537\u001b[39m\n\u001b[0;32m     30\u001b[0m \u001b[38;5;28;01massert\u001b[39;00m guess \u001b[38;5;241m!=\u001b[39m \u001b[38;5;241m625624854223537\u001b[39m\n\u001b[1;32m---> 31\u001b[0m \u001b[38;5;28;01massert\u001b[39;00m guess \u001b[38;5;241m!=\u001b[39m \u001b[38;5;241m625627879818765\u001b[39m\n\u001b[0;32m     32\u001b[0m \u001b[38;5;28;01massert\u001b[39;00m guess \u001b[38;5;241m!=\u001b[39m \u001b[38;5;241m625627902678491\u001b[39m\n\u001b[0;32m     34\u001b[0m \u001b[38;5;28mprint\u001b[39m(guess)\n",
      "\u001b[1;31mAssertionError\u001b[0m: "
     ]
    }
   ],
   "source": [
    "alpha1 = 7637\n",
    "alpha2 = 7650\n",
    "\n",
    "def enclosed2(n):\n",
    "    N = (n - 1) // 2\n",
    "    M = (n + 0) // 2\n",
    "    inside = alpha1 * (4 * N * (N + 1) + 1) + alpha2 * (4 * M**2)\n",
    "    edges = alpha1 * (2*n-1) if n % 2 == 0 else alpha2 * (2*n-1)\n",
    "    return inside + edges\n",
    "\n",
    "n_steps = 26501365\n",
    "q = n_steps // 131  # number of plot widths in each direction\n",
    "# guess = enclosed2(q)\n",
    "guess = 625627879818765\n",
    "\n",
    "assert enclosed2(1) == alpha1 + alpha2\n",
    "assert enclosed2(2) == alpha1 + 4 * alpha2 + 3 * alpha1\n",
    "assert enclosed2(3) == alpha1 + 4 * alpha2 + 8 * alpha1 + 5 * alpha2\n",
    "assert enclosed2(4) == alpha1 + 4 * alpha2 + 8 * alpha1 + 12 * alpha2 + 7 * alpha1\n",
    "\n",
    "assert n_steps == 26501365\n",
    "assert n_steps % 131 == 65  # ensures formulas work\n",
    "assert q == 202300  # ensure right value is used for formula\n",
    "\n",
    "assert guess > 589604501720250\n",
    "assert guess != 625621818307437\n",
    "assert guess != 625622606265937\n",
    "assert guess != 625623360642650\n",
    "assert guess != 625623363272537\n",
    "assert guess != 625624854223537\n",
    "assert guess != 625627879818765\n",
    "assert guess != 625627902678491\n",
    "\n",
    "print(guess)"
   ]
  }
 ],
 "metadata": {
  "kernelspec": {
   "display_name": "Python 3",
   "language": "python",
   "name": "python3"
  },
  "language_info": {
   "codemirror_mode": {
    "name": "ipython",
    "version": 3
   },
   "file_extension": ".py",
   "mimetype": "text/x-python",
   "name": "python",
   "nbconvert_exporter": "python",
   "pygments_lexer": "ipython3",
   "version": "3.10.6"
  }
 },
 "nbformat": 4,
 "nbformat_minor": 2
}
